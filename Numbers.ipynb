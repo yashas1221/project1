{
 "cells": [
  {
   "cell_type": "code",
   "execution_count": 1,
   "id": "9a097fe5-2a6f-4c09-ad6b-a04356a5bac9",
   "metadata": {},
   "outputs": [
    {
     "data": {
      "text/plain": [
       "3"
      ]
     },
     "execution_count": 1,
     "metadata": {},
     "output_type": "execute_result"
    }
   ],
   "source": [
    "2+1"
   ]
  },
  {
   "cell_type": "code",
   "execution_count": 2,
   "id": "85b50a61-2f0b-4757-8bf9-9b60c48f282c",
   "metadata": {},
   "outputs": [
    {
     "data": {
      "text/plain": [
       "4"
      ]
     },
     "execution_count": 2,
     "metadata": {},
     "output_type": "execute_result"
    }
   ],
   "source": [
    "2*2"
   ]
  },
  {
   "cell_type": "markdown",
   "id": "0db826d3-5aa0-481a-85c8-2c1309280fbc",
   "metadata": {},
   "source": [
    "#### "
   ]
  },
  {
   "cell_type": "code",
   "execution_count": 3,
   "id": "015e6170-4822-4d1e-bd41-2f0c5fb44a7e",
   "metadata": {},
   "outputs": [
    {
     "data": {
      "text/plain": [
       "7.0"
      ]
     },
     "execution_count": 3,
     "metadata": {},
     "output_type": "execute_result"
    }
   ],
   "source": [
    "7/1"
   ]
  },
  {
   "cell_type": "code",
   "execution_count": 4,
   "id": "c6db0d99-18a8-4f92-ad94-44c34086c879",
   "metadata": {},
   "outputs": [
    {
     "data": {
      "text/plain": [
       "1.75"
      ]
     },
     "execution_count": 4,
     "metadata": {},
     "output_type": "execute_result"
    }
   ],
   "source": [
    "7/4"
   ]
  },
  {
   "cell_type": "markdown",
   "id": "59544bbf-f157-4494-b8d5-e15f58aca6c7",
   "metadata": {},
   "source": [
    "mbgk gcfgdg \n"
   ]
  },
  {
   "cell_type": "raw",
   "id": "3ae4a560-1113-41d4-af4c-6f69356acbc6",
   "metadata": {},
   "source": [
    "bngygv nbnvhgd"
   ]
  },
  {
   "cell_type": "code",
   "execution_count": 5,
   "id": "b83a70ec-9011-4897-bc62-780c2f0fd78f",
   "metadata": {},
   "outputs": [
    {
     "data": {
      "text/plain": [
       "1.1666666666666667"
      ]
     },
     "execution_count": 5,
     "metadata": {},
     "output_type": "execute_result"
    }
   ],
   "source": [
    "7/6"
   ]
  },
  {
   "cell_type": "code",
   "execution_count": 6,
   "id": "4423afc6-f0c7-4dd0-96b2-b274784bd123",
   "metadata": {},
   "outputs": [
    {
     "data": {
      "text/plain": [
       "1"
      ]
     },
     "execution_count": 6,
     "metadata": {},
     "output_type": "execute_result"
    }
   ],
   "source": [
    "23%2"
   ]
  },
  {
   "cell_type": "code",
   "execution_count": 7,
   "id": "518f7896-285d-4643-9d3c-5b537976f87a",
   "metadata": {},
   "outputs": [
    {
     "data": {
      "text/plain": [
       "0"
      ]
     },
     "execution_count": 7,
     "metadata": {},
     "output_type": "execute_result"
    }
   ],
   "source": [
    "22%2"
   ]
  },
  {
   "cell_type": "code",
   "execution_count": 8,
   "id": "d8c039b4-f4c1-4dcc-a700-34d8e2a45f36",
   "metadata": {},
   "outputs": [
    {
     "data": {
      "text/plain": [
       "8"
      ]
     },
     "execution_count": 8,
     "metadata": {},
     "output_type": "execute_result"
    }
   ],
   "source": [
    "2 ** 3"
   ]
  },
  {
   "cell_type": "code",
   "execution_count": 9,
   "id": "ce26dcc6-7056-461c-9ff6-e51c395b8b67",
   "metadata": {},
   "outputs": [
    {
     "data": {
      "text/plain": [
       "105"
      ]
     },
     "execution_count": 9,
     "metadata": {},
     "output_type": "execute_result"
    }
   ],
   "source": [
    "2+10*10+3\n"
   ]
  },
  {
   "cell_type": "code",
   "execution_count": 10,
   "id": "4da86217-aef9-4e40-aa50-2b45dffa7fb7",
   "metadata": {},
   "outputs": [
    {
     "data": {
      "text/plain": [
       "90"
      ]
     },
     "execution_count": 10,
     "metadata": {},
     "output_type": "execute_result"
    }
   ],
   "source": [
    "45+45"
   ]
  },
  {
   "cell_type": "code",
   "execution_count": 11,
   "id": "cdab259d-eadd-465c-8fa7-20e56fc60b02",
   "metadata": {},
   "outputs": [
    {
     "data": {
      "text/plain": [
       "100"
      ]
     },
     "execution_count": 11,
     "metadata": {},
     "output_type": "execute_result"
    }
   ],
   "source": [
    "45+55"
   ]
  },
  {
   "cell_type": "code",
   "execution_count": 12,
   "id": "fc372287-37a1-47ed-a10e-e66d38173013",
   "metadata": {},
   "outputs": [
    {
     "ename": "NameError",
     "evalue": "name 'a' is not defined",
     "output_type": "error",
     "traceback": [
      "\u001b[1;31m---------------------------------------------------------------------------\u001b[0m",
      "\u001b[1;31mNameError\u001b[0m                                 Traceback (most recent call last)",
      "Cell \u001b[1;32mIn[12], line 1\u001b[0m\n\u001b[1;32m----> 1\u001b[0m a\u001b[38;5;241m+\u001b[39ma\u001b[38;5;241m+\u001b[39ma\n",
      "\u001b[1;31mNameError\u001b[0m: name 'a' is not defined"
     ]
    }
   ],
   "source": [
    "a+a+a"
   ]
  },
  {
   "cell_type": "code",
   "execution_count": 13,
   "id": "b678493e-f2e4-42ff-8c35-9aa7bc6bacd8",
   "metadata": {},
   "outputs": [],
   "source": [
    "a=10"
   ]
  },
  {
   "cell_type": "code",
   "execution_count": 14,
   "id": "f33bd87b-ed6c-44e8-9157-408491e8f57f",
   "metadata": {},
   "outputs": [
    {
     "data": {
      "text/plain": [
       "30"
      ]
     },
     "execution_count": 14,
     "metadata": {},
     "output_type": "execute_result"
    }
   ],
   "source": [
    "a+a+a"
   ]
  },
  {
   "cell_type": "code",
   "execution_count": 17,
   "id": "87a43544-fd95-433c-b2e6-b47e6928176c",
   "metadata": {},
   "outputs": [
    {
     "ename": "SyntaxError",
     "evalue": "invalid syntax (525209973.py, line 1)",
     "output_type": "error",
     "traceback": [
      "\u001b[1;36m  Cell \u001b[1;32mIn[17], line 1\u001b[1;36m\u001b[0m\n\u001b[1;33m    a+a+\u001b[0m\n\u001b[1;37m        ^\u001b[0m\n\u001b[1;31mSyntaxError\u001b[0m\u001b[1;31m:\u001b[0m invalid syntax\n"
     ]
    }
   ],
   "source": [
    "a+a+"
   ]
  },
  {
   "cell_type": "code",
   "execution_count": 18,
   "id": "d5bbd847-a27b-40f5-8976-053e266ebabe",
   "metadata": {},
   "outputs": [
    {
     "data": {
      "text/plain": [
       "20"
      ]
     },
     "execution_count": 18,
     "metadata": {},
     "output_type": "execute_result"
    }
   ],
   "source": [
    "a+a"
   ]
  },
  {
   "cell_type": "code",
   "execution_count": 21,
   "id": "0ef96298-ac38-4510-bef5-d1495e1248a3",
   "metadata": {},
   "outputs": [],
   "source": [
    "a= a+a"
   ]
  },
  {
   "cell_type": "code",
   "execution_count": 22,
   "id": "a5558500-87f6-4262-b653-0862dccb3fb5",
   "metadata": {},
   "outputs": [
    {
     "data": {
      "text/plain": [
       "80"
      ]
     },
     "execution_count": 22,
     "metadata": {},
     "output_type": "execute_result"
    }
   ],
   "source": [
    "a+a"
   ]
  },
  {
   "cell_type": "code",
   "execution_count": 23,
   "id": "bb3a69ff-7fef-4a06-aa1e-966d494245e2",
   "metadata": {},
   "outputs": [
    {
     "data": {
      "text/plain": [
       "int"
      ]
     },
     "execution_count": 23,
     "metadata": {},
     "output_type": "execute_result"
    }
   ],
   "source": [
    "type(a)"
   ]
  },
  {
   "cell_type": "code",
   "execution_count": 24,
   "id": "2eefcfdd-0ccd-4820-8aeb-bc57c08bb26d",
   "metadata": {},
   "outputs": [],
   "source": [
    "my_incame=100\n",
    "my_tex=0.1\n",
    "total_tex=my_incame*my_tex"
   ]
  },
  {
   "cell_type": "code",
   "execution_count": 25,
   "id": "de675505-5047-4839-b121-14562f0a04bd",
   "metadata": {},
   "outputs": [
    {
     "data": {
      "text/plain": [
       "10.0"
      ]
     },
     "execution_count": 25,
     "metadata": {},
     "output_type": "execute_result"
    }
   ],
   "source": [
    "total_tex"
   ]
  },
  {
   "cell_type": "code",
   "execution_count": 26,
   "id": "ec3b7356-51be-490d-b5ce-4ce7741a455f",
   "metadata": {},
   "outputs": [
    {
     "data": {
      "text/plain": [
       "'yashas'"
      ]
     },
     "execution_count": 26,
     "metadata": {},
     "output_type": "execute_result"
    }
   ],
   "source": [
    " \"yashas\""
   ]
  },
  {
   "cell_type": "code",
   "execution_count": 27,
   "id": "083b0401-5afc-4fc7-b42a-b2d7fb83c65b",
   "metadata": {},
   "outputs": [
    {
     "ename": "SyntaxError",
     "evalue": "unterminated string literal (detected at line 1) (4064091689.py, line 1)",
     "output_type": "error",
     "traceback": [
      "\u001b[1;36m  Cell \u001b[1;32mIn[27], line 1\u001b[1;36m\u001b[0m\n\u001b[1;33m    \"gh\u001b[0m\n\u001b[1;37m    ^\u001b[0m\n\u001b[1;31mSyntaxError\u001b[0m\u001b[1;31m:\u001b[0m unterminated string literal (detected at line 1)\n"
     ]
    }
   ],
   "source": [
    "\"gh"
   ]
  },
  {
   "cell_type": "code",
   "execution_count": 28,
   "id": "7456cb7a-462b-40a4-bb14-145c9f425caf",
   "metadata": {},
   "outputs": [
    {
     "data": {
      "text/plain": [
       "'gh'"
      ]
     },
     "execution_count": 28,
     "metadata": {},
     "output_type": "execute_result"
    }
   ],
   "source": [
    "\"gh\""
   ]
  },
  {
   "cell_type": "code",
   "execution_count": 29,
   "id": "391590b7-7e96-4ce6-9ab6-5731efd84878",
   "metadata": {},
   "outputs": [
    {
     "ename": "SyntaxError",
     "evalue": "unterminated string literal (detected at line 1) (2384150408.py, line 1)",
     "output_type": "error",
     "traceback": [
      "\u001b[1;36m  Cell \u001b[1;32mIn[29], line 1\u001b[1;36m\u001b[0m\n\u001b[1;33m    'gh\"\u001b[0m\n\u001b[1;37m    ^\u001b[0m\n\u001b[1;31mSyntaxError\u001b[0m\u001b[1;31m:\u001b[0m unterminated string literal (detected at line 1)\n"
     ]
    }
   ],
   "source": [
    "'gh\""
   ]
  },
  {
   "cell_type": "code",
   "execution_count": 30,
   "id": "ed327faf-a244-4dcb-bdb4-eefb2bfbfba2",
   "metadata": {},
   "outputs": [
    {
     "ename": "NameError",
     "evalue": "name 'gh' is not defined",
     "output_type": "error",
     "traceback": [
      "\u001b[1;31m---------------------------------------------------------------------------\u001b[0m",
      "\u001b[1;31mNameError\u001b[0m                                 Traceback (most recent call last)",
      "Cell \u001b[1;32mIn[30], line 1\u001b[0m\n\u001b[1;32m----> 1\u001b[0m gh\n",
      "\u001b[1;31mNameError\u001b[0m: name 'gh' is not defined"
     ]
    }
   ],
   "source": [
    "gh"
   ]
  },
  {
   "cell_type": "code",
   "execution_count": 31,
   "id": "c23a2e0d-041d-49cc-a32f-8b5b861cb211",
   "metadata": {},
   "outputs": [
    {
     "data": {
      "text/plain": [
       "'gh'"
      ]
     },
     "execution_count": 31,
     "metadata": {},
     "output_type": "execute_result"
    }
   ],
   "source": [
    "'gh'"
   ]
  },
  {
   "cell_type": "code",
   "execution_count": 32,
   "id": "7e864754-5426-4540-89f7-4aabf006dfb9",
   "metadata": {},
   "outputs": [
    {
     "data": {
      "text/plain": [
       "\"gh'jk\""
      ]
     },
     "execution_count": 32,
     "metadata": {},
     "output_type": "execute_result"
    }
   ],
   "source": [
    "\"gh'jk\""
   ]
  },
  {
   "cell_type": "code",
   "execution_count": 33,
   "id": "29cd045d-904b-4ff6-8565-f5bfb7c6cf25",
   "metadata": {},
   "outputs": [
    {
     "ename": "SyntaxError",
     "evalue": "unterminated string literal (detected at line 1) (2573169574.py, line 1)",
     "output_type": "error",
     "traceback": [
      "\u001b[1;36m  Cell \u001b[1;32mIn[33], line 1\u001b[1;36m\u001b[0m\n\u001b[1;33m    'gh'jk'\u001b[0m\n\u001b[1;37m          ^\u001b[0m\n\u001b[1;31mSyntaxError\u001b[0m\u001b[1;31m:\u001b[0m unterminated string literal (detected at line 1)\n"
     ]
    }
   ],
   "source": [
    "'gh'jk'"
   ]
  },
  {
   "cell_type": "code",
   "execution_count": 34,
   "id": "fb66ac0e-52ac-4529-b667-c64503dd44ac",
   "metadata": {},
   "outputs": [
    {
     "data": {
      "text/plain": [
       "\"gh'gh\""
      ]
     },
     "execution_count": 34,
     "metadata": {},
     "output_type": "execute_result"
    }
   ],
   "source": [
    "\"gh'gh\""
   ]
  },
  {
   "cell_type": "code",
   "execution_count": 35,
   "id": "2ce8fca5-0dc5-4fc2-bd0c-14f8ddd7b046",
   "metadata": {},
   "outputs": [
    {
     "name": "stdout",
     "output_type": "stream",
     "text": [
      "hello to world\n"
     ]
    }
   ],
   "source": [
    "print('hello to world') "
   ]
  },
  {
   "cell_type": "code",
   "execution_count": 36,
   "id": "7c6fc803-dbe3-4cfd-8dc0-cf78a1fbc440",
   "metadata": {},
   "outputs": [
    {
     "ename": "SyntaxError",
     "evalue": "unterminated string literal (detected at line 2) (2056604605.py, line 2)",
     "output_type": "error",
     "traceback": [
      "\u001b[1;36m  Cell \u001b[1;32mIn[36], line 2\u001b[1;36m\u001b[0m\n\u001b[1;33m    ghg\"\u001b[0m\n\u001b[1;37m       ^\u001b[0m\n\u001b[1;31mSyntaxError\u001b[0m\u001b[1;31m:\u001b[0m unterminated string literal (detected at line 2)\n"
     ]
    }
   ],
   "source": [
    "\"ghf\"\n",
    "ghg\""
   ]
  },
  {
   "cell_type": "code",
   "execution_count": 37,
   "id": "285f02a7-3e2d-4d53-aea9-9d0eab941e0a",
   "metadata": {},
   "outputs": [
    {
     "data": {
      "text/plain": [
       "'jk'"
      ]
     },
     "execution_count": 37,
     "metadata": {},
     "output_type": "execute_result"
    }
   ],
   "source": [
    "\"gh\"\n",
    "\"jk\""
   ]
  },
  {
   "cell_type": "code",
   "execution_count": 38,
   "id": "3450e994-d721-414a-bf93-48c14c38f9dc",
   "metadata": {},
   "outputs": [
    {
     "name": "stdout",
     "output_type": "stream",
     "text": [
      "hello\n",
      "world\n"
     ]
    }
   ],
   "source": [
    "print('hello')\n",
    "print('world')"
   ]
  },
  {
   "cell_type": "code",
   "execution_count": 43,
   "id": "fead6f96-7eb1-4642-9846-fba5b1e09d76",
   "metadata": {},
   "outputs": [
    {
     "name": "stdout",
     "output_type": "stream",
     "text": [
      "hello \t world\n"
     ]
    }
   ],
   "source": [
    "print('hello \\t world')"
   ]
  },
  {
   "cell_type": "code",
   "execution_count": 44,
   "id": "92cfa481-853e-4e7e-a770-cbf5add7a561",
   "metadata": {},
   "outputs": [
    {
     "data": {
      "text/plain": [
       "4"
      ]
     },
     "execution_count": 44,
     "metadata": {},
     "output_type": "execute_result"
    }
   ],
   "source": [
    "len('i am')"
   ]
  },
  {
   "cell_type": "code",
   "execution_count": 45,
   "id": "b3b3cb2a-570d-487a-a35f-05416bbb1ffa",
   "metadata": {},
   "outputs": [
    {
     "data": {
      "text/plain": [
       "5"
      ]
     },
     "execution_count": 45,
     "metadata": {},
     "output_type": "execute_result"
    }
   ],
   "source": [
    "len('i  am')"
   ]
  },
  {
   "cell_type": "code",
   "execution_count": 47,
   "id": "4b0d78a9-a918-43d4-8ac7-2b2e7d8eea74",
   "metadata": {},
   "outputs": [],
   "source": [
    "mysring=\"abcdefgh\""
   ]
  },
  {
   "cell_type": "code",
   "execution_count": 48,
   "id": "d3ea5f3f-1d63-4d00-9850-c3f8b963bd1f",
   "metadata": {},
   "outputs": [
    {
     "data": {
      "text/plain": [
       "'abcdefgh'"
      ]
     },
     "execution_count": 48,
     "metadata": {},
     "output_type": "execute_result"
    }
   ],
   "source": [
    "mysring"
   ]
  },
  {
   "cell_type": "code",
   "execution_count": null,
   "id": "16ba5410-99be-4aa4-8ab3-4e20249d729f",
   "metadata": {},
   "outputs": [],
   "source": [
    "mysring[2"
   ]
  }
 ],
 "metadata": {
  "kernelspec": {
   "display_name": "Python 3 (ipykernel)",
   "language": "python",
   "name": "python3"
  },
  "language_info": {
   "codemirror_mode": {
    "name": "ipython",
    "version": 3
   },
   "file_extension": ".py",
   "mimetype": "text/x-python",
   "name": "python",
   "nbconvert_exporter": "python",
   "pygments_lexer": "ipython3",
   "version": "3.12.7"
  }
 },
 "nbformat": 4,
 "nbformat_minor": 5
}
